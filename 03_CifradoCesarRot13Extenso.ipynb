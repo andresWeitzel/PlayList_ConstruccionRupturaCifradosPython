{
 "cells": [
  {
   "cell_type": "code",
   "execution_count": 10,
   "metadata": {},
   "outputs": [],
   "source": [
    "def encriptarDesencriptarROT13(mensajeInput,modoInput):\n",
    "    \n",
    "    mensaje = mensajeInput\n",
    "    \n",
    "    diccionario =\"ABCDEFGHIJKLMNOPQRSTUVWXYZabcdefghijklmnopqrstuvwxyz1234567890 !?.`~@#$%^&*()_+-=[]{}|;:<>,/\"\n",
    "\n",
    "    modo = modoInput\n",
    "    \n",
    "    auxiliar = \"\"\n",
    "    \n",
    "    for caracter in mensaje:\n",
    "        \n",
    "        #Para los indices del diccionario en base a la cadena de entrada(mensaje)\n",
    "        #Si se encuentra el caracter del mensaje en el diccionario cumple..\n",
    "        if caracter in diccionario:\n",
    "            \n",
    "            #Buscamos cual es el caracter del mensaje en el diccionario y la guardamos en la variable\n",
    "            diccionarioIndice = diccionario.find(caracter)\n",
    "            \n",
    "            if modo == 'encriptado':\n",
    "                \n",
    "                auxiliarIndice = diccionarioIndice + 13\n",
    "                \n",
    "            elif modo == 'desencriptado':\n",
    "                \n",
    "                auxiliarIndice = diccionarioIndice - 13\n",
    "                \n",
    "            '''\n",
    "            Para que no nos pasemos de la longitud del diccionario\n",
    "            Aumentamos o disminuimos dentro de la longitud total del diccionario, notar que ya no trabajamos con \n",
    "            el modulo 26, por que nuestro diccionario ahora es mas grande, cuanto mas grande, mas\n",
    "            fuerte el cripto\n",
    "            '''   \n",
    "            \n",
    "            if auxiliarIndice >= len(diccionario):\n",
    "                \n",
    "                auxiliarIndice = auxiliarIndice - len(diccionario)\n",
    "                \n",
    "                \n",
    "            elif auxiliarIndice < 0:\n",
    "                \n",
    "                auxiliarIndice = auxiliarIndice + len(diccionario)\n",
    "                \n",
    "                \n",
    "            #Contendra el caracter   \n",
    "            auxiliar = auxiliar + diccionario[auxiliarIndice]  \n",
    "        \n",
    "        \n",
    "        else:\n",
    "            \n",
    "            #Si no hay caracter dentro del diccionario, no hay modo encriptado/desenc\n",
    "            #osea el texto de entrada es el texto de salida\n",
    "            auxiliar = auxiliar + caracter\n",
    "            \n",
    "            \n",
    "            \n",
    "    print(auxiliar)     \n",
    "            "
   ]
  },
  {
   "cell_type": "code",
   "execution_count": 11,
   "metadata": {},
   "outputs": [
    {
     "name": "stdout",
     "output_type": "stream",
     "text": [
      "Este es un mensaje de Qexto Mlano 134567\n"
     ]
    }
   ],
   "source": [
    "encriptarDesencriptarROT13(\"R67r(r6(81(zr16nwr(qr(gr 72(cyn12(.~@#$%\",\"desencriptado\")"
   ]
  },
  {
   "cell_type": "code",
   "execution_count": null,
   "metadata": {},
   "outputs": [],
   "source": []
  }
 ],
 "metadata": {
  "kernelspec": {
   "display_name": "Python 3",
   "language": "python",
   "name": "python3"
  },
  "language_info": {
   "codemirror_mode": {
    "name": "ipython",
    "version": 3
   },
   "file_extension": ".py",
   "mimetype": "text/x-python",
   "name": "python",
   "nbconvert_exporter": "python",
   "pygments_lexer": "ipython3",
   "version": "3.8.3"
  }
 },
 "nbformat": 4,
 "nbformat_minor": 4
}
