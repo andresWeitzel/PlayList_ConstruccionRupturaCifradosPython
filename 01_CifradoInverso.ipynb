{
 "cells": [
  {
   "cell_type": "code",
   "execution_count": 2,
   "metadata": {},
   "outputs": [
    {
     "name": "stdout",
     "output_type": "stream",
     "text": [
      "otxeT ed anedac anu se atsE\n"
     ]
    }
   ],
   "source": [
    "mensaje='Esta es una cadena de Texto'\n",
    "\n",
    "auxiliar=''\n",
    "\n",
    "i= len(mensaje) - 1 \n",
    "\n",
    "while i >= 0: \n",
    "    \n",
    "    auxiliar= auxiliar + mensaje[i] \n",
    "    \n",
    "    i = i - 1\n",
    "    \n",
    "print(auxiliar)    \n",
    "    "
   ]
  },
  {
   "cell_type": "code",
   "execution_count": null,
   "metadata": {},
   "outputs": [],
   "source": []
  },
  {
   "cell_type": "code",
   "execution_count": 3,
   "metadata": {},
   "outputs": [],
   "source": [
    "def cifradoDescifrado(mensajeInput):\n",
    "    \n",
    "    mensaje=mensajeInput\n",
    "    \n",
    "    auxiliar=''\n",
    "\n",
    "    i= len(mensaje) - 1 \n",
    "\n",
    "    while i >= 0: \n",
    "\n",
    "        auxiliar= auxiliar + mensaje[i] \n",
    "\n",
    "        i = i - 1\n",
    "\n",
    "    print(\"Texto Plano Cifrado/Descifrado: \" , auxiliar)    "
   ]
  },
  {
   "cell_type": "code",
   "execution_count": 4,
   "metadata": {},
   "outputs": [
    {
     "name": "stdout",
     "output_type": "stream",
     "text": [
      "Texto Plano Cifrado/Descifrado:  ...seretaraC ed anedac anu se atsE\n"
     ]
    }
   ],
   "source": [
    "cifradoDescifrado(\"Esta es una cadena de Carateres...\")"
   ]
  },
  {
   "cell_type": "code",
   "execution_count": 5,
   "metadata": {},
   "outputs": [
    {
     "name": "stdout",
     "output_type": "stream",
     "text": [
      "Texto Plano Cifrado/Descifrado:  Esta es una cadena de Carateres\n"
     ]
    }
   ],
   "source": [
    "cifradoDescifrado(\"seretaraC ed anedac anu se atsE\")"
   ]
  },
  {
   "cell_type": "code",
   "execution_count": null,
   "metadata": {},
   "outputs": [],
   "source": []
  }
 ],
 "metadata": {
  "kernelspec": {
   "display_name": "Python 3",
   "language": "python",
   "name": "python3"
  },
  "language_info": {
   "codemirror_mode": {
    "name": "ipython",
    "version": 3
   },
   "file_extension": ".py",
   "mimetype": "text/x-python",
   "name": "python",
   "nbconvert_exporter": "python",
   "pygments_lexer": "ipython3",
   "version": "3.8.3"
  }
 },
 "nbformat": 4,
 "nbformat_minor": 4
}
