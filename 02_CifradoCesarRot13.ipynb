{
 "cells": [
  {
   "cell_type": "code",
   "execution_count": 3,
   "metadata": {},
   "outputs": [
    {
     "name": "stdout",
     "output_type": "stream",
     "text": [
      "\n",
      " Mensaje Cifrado ROT13:  rfgrfhazrafnwr\n"
     ]
    }
   ],
   "source": [
    "mensaje=\"estesunmensaje\"\n",
    "\n",
    "diccionario=\"abcdefghijklmnopqrstuvwxyz\"\n",
    "\n",
    "auxiliar=\"\"\n",
    "\n",
    "'''\n",
    "La logica es similar al cifrado inverso, el punto aca es siempre a cada caracter del  \n",
    "mensaje respecto a la posicion de ese caracter en el diccionario sumarle 13 posiciones, \n",
    "y teniendo en consideracion que no debe superar las 26 posiciones, osea todo el alfabeto,\n",
    "por eso modulo 26, si llega al mismo, comienza desde el inicio.\n",
    "'''\n",
    "for i in mensaje:\n",
    "    \n",
    "    auxiliar = auxiliar + diccionario[(diccionario.find(i) + 13 ) % 26]\n",
    "    \n",
    "    \n",
    "print(\"\\n Mensaje Cifrado ROT13: \",auxiliar)    \n",
    "    \n",
    "    \n",
    "    \n",
    "    \n",
    "    "
   ]
  },
  {
   "cell_type": "code",
   "execution_count": 9,
   "metadata": {},
   "outputs": [],
   "source": [
    "def criptoROT13(mensajeInput):\n",
    "    \n",
    "    mensaje = mensajeInput\n",
    "    \n",
    "    diccionario=\"abcdefghijklmnopqrstuvwxyz\"\n",
    "\n",
    "    auxiliar=\"\"\n",
    "\n",
    "    for i in mensaje:\n",
    "\n",
    "        auxiliar = auxiliar + diccionario[(diccionario.find(i) + 13 ) % 26]\n",
    "\n",
    "\n",
    "    print(\"\\n Mensaje Cifrado ROT13: \",auxiliar)    \n"
   ]
  },
  {
   "cell_type": "code",
   "execution_count": 10,
   "metadata": {},
   "outputs": [
    {
     "name": "stdout",
     "output_type": "stream",
     "text": [
      "\n",
      " Mensaje Cifrado ROT13:  grarzbfhaceboyrznubhfgba\n"
     ]
    }
   ],
   "source": [
    "criptoROT13(\"tenemosunproblemahouston\")"
   ]
  },
  {
   "cell_type": "code",
   "execution_count": null,
   "metadata": {},
   "outputs": [],
   "source": []
  }
 ],
 "metadata": {
  "kernelspec": {
   "display_name": "Python 3",
   "language": "python",
   "name": "python3"
  },
  "language_info": {
   "codemirror_mode": {
    "name": "ipython",
    "version": 3
   },
   "file_extension": ".py",
   "mimetype": "text/x-python",
   "name": "python",
   "nbconvert_exporter": "python",
   "pygments_lexer": "ipython3",
   "version": "3.8.3"
  }
 },
 "nbformat": 4,
 "nbformat_minor": 4
}
